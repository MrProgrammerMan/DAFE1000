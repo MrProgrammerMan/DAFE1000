{
 "cells": [
  {
   "cell_type": "markdown",
   "metadata": {},
   "source": [
    "# Task\n",
    "What's being calculated below?\n",
    "```python\n",
    "np.sin(0.7)\n",
    "np.log(5)\n",
    "np.sqrt(9)\n",
    "np.exp(1)\n",
    "np.arctan(2)\n",
    "```"
   ]
  },
  {
   "cell_type": "markdown",
   "metadata": {},
   "source": [
    "# Solution"
   ]
  },
  {
   "cell_type": "code",
   "execution_count": null,
   "metadata": {},
   "outputs": [],
   "source": [
    "import numpy as np\n",
    "\n",
    "print(f\"Sine of 0.7 radians: {np.sin(0.7)}\")\n",
    "print(f\"Natural logarithm of 5: {np.log(5)}\")\n",
    "print(f\"Square root of 9: {np.sqrt(9)}\")\n",
    "print(f\"Exponential of 1 (e^1): {np.exp(1)}\")\n",
    "print(f\"Arctangent of 2: {np.arctan(2)}\")"
   ]
  }
 ],
 "metadata": {
  "kernelspec": {
   "display_name": "env",
   "language": "python",
   "name": "python3"
  },
  "language_info": {
   "codemirror_mode": {
    "name": "ipython",
    "version": 3
   },
   "file_extension": ".py",
   "mimetype": "text/x-python",
   "name": "python",
   "nbconvert_exporter": "python",
   "pygments_lexer": "ipython3",
   "version": "3.12.3"
  }
 },
 "nbformat": 4,
 "nbformat_minor": 2
}
