{
 "cells": [
  {
   "cell_type": "markdown",
   "metadata": {},
   "source": [
    "# Task\n",
    "Find out how Python interprets these expressions:\n",
    "\n",
    "```python\n",
    "1/0\n",
    "0**0\n",
    "5/np.inf\n",
    "0*np.inf\n",
    "np.inf/np.inf\n",
    "np.nan+1\n",
    "10**999\n",
    "1.2e4\n",
    "```"
   ]
  },
  {
   "cell_type": "markdown",
   "metadata": {},
   "source": [
    "# Solution"
   ]
  },
  {
   "cell_type": "code",
   "execution_count": null,
   "metadata": {},
   "outputs": [],
   "source": [
    "import numpy as np\n",
    "\n",
    "try: # Try to do something\n",
    "  print(1/0)\n",
    "except ZeroDivisionError: # Do this if it fails\n",
    "  print(\"Dividing 1 by 0 triggered a ZeroDivisionError\")\n",
    "print(f\"0 raised to the power of 0: {0**0}\")\n",
    "print(f\"5 divided by infinity: {5/np.inf}\")\n",
    "print(f\"0 multiplied by infinity: {0*np.inf}\")\n",
    "print(f\"Infinity divided by infinity: {np.inf/np.inf}\")\n",
    "print(f\"NaN plus 1: {np.nan+1}\")\n",
    "print(f\"10 raised to the power of 999: {10**999}\")\n",
    "print(f\"1.2 times 10 to the power of 4: {1.2e4}\")"
   ]
  },
  {
   "cell_type": "code",
   "execution_count": null,
   "metadata": {},
   "outputs": [],
   "source": []
  }
 ],
 "metadata": {
  "kernelspec": {
   "display_name": "env",
   "language": "python",
   "name": "python3"
  },
  "language_info": {
   "codemirror_mode": {
    "name": "ipython",
    "version": 3
   },
   "file_extension": ".py",
   "mimetype": "text/x-python",
   "name": "python",
   "nbconvert_exporter": "python",
   "pygments_lexer": "ipython3",
   "version": "3.12.3"
  }
 },
 "nbformat": 4,
 "nbformat_minor": 2
}
