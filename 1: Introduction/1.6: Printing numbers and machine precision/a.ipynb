{
 "cells": [
  {
   "cell_type": "markdown",
   "metadata": {},
   "source": [
    "# Task\n",
    "Assign the following variables:\n",
    "\n",
    "```python\n",
    "x = 3*np.pi\n",
    "y = 1234567890\n",
    "```\n",
    "\n",
    "Use the print() function to:\n",
    "- Print x with 3 decimal precision\n",
    "- Print y without specifying the format\n",
    "- Print y on normal form with 1 decimal\n",
    "- Create the print \"x is 9.4248 and y is 1.234568e+09\""
   ]
  },
  {
   "cell_type": "markdown",
   "metadata": {},
   "source": [
    "# Solution"
   ]
  },
  {
   "cell_type": "code",
   "execution_count": null,
   "metadata": {},
   "outputs": [],
   "source": [
    "import numpy as np\n",
    "\n",
    "x = 3*np.pi\n",
    "y = 1234567890\n",
    "\n",
    "print(f\"{x:.3f}\")\n",
    "print(f\"{y}\")\n",
    "print(f\"{y:.1e}\")\n",
    "print(f\"x is {x:.4f}, y is {y:.6e}\")"
   ]
  }
 ],
 "metadata": {
  "kernelspec": {
   "display_name": "env",
   "language": "python",
   "name": "python3"
  },
  "language_info": {
   "codemirror_mode": {
    "name": "ipython",
    "version": 3
   },
   "file_extension": ".py",
   "mimetype": "text/x-python",
   "name": "python",
   "nbconvert_exporter": "python",
   "pygments_lexer": "ipython3",
   "version": "3.12.3"
  }
 },
 "nbformat": 4,
 "nbformat_minor": 2
}
