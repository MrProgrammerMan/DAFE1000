{
 "cells": [
  {
   "cell_type": "markdown",
   "metadata": {},
   "source": [
    "# Task\n",
    "Find out what the number 0.1 actually is on a computer."
   ]
  },
  {
   "cell_type": "markdown",
   "metadata": {},
   "source": [
    "# Solution\n",
    "0.1 is not a number that fits cleanly into the binary number system. Since this is how computers represent numbers, it is impossible to represent exactly 0.1. The limited precision of floating point numbers means that to some degree, the number stored is not exactly 0.1. This is shown below by forcing python to print a high number of decimals of 0.1."
   ]
  },
  {
   "cell_type": "code",
   "execution_count": null,
   "metadata": {},
   "outputs": [],
   "source": [
    "x = .1\n",
    "\n",
    "print(x)\n",
    "print(f\"{x:.5f}\")\n",
    "print(f\"{x:.15f}\")\n",
    "print(f\"{x:.25f}\")"
   ]
  }
 ],
 "metadata": {
  "kernelspec": {
   "display_name": "env",
   "language": "python",
   "name": "python3"
  },
  "language_info": {
   "codemirror_mode": {
    "name": "ipython",
    "version": 3
   },
   "file_extension": ".py",
   "mimetype": "text/x-python",
   "name": "python",
   "nbconvert_exporter": "python",
   "pygments_lexer": "ipython3",
   "version": "3.12.3"
  }
 },
 "nbformat": 4,
 "nbformat_minor": 2
}
