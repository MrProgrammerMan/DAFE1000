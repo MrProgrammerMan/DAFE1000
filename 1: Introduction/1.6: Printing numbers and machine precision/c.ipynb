{
 "cells": [
  {
   "cell_type": "markdown",
   "metadata": {},
   "source": [
    "# Task\n",
    "Start with the code below:\n",
    "\n",
    "```python\n",
    "x = .1\n",
    "y = 1.0e-5\n",
    "z = x-y\n",
    "```\n",
    "\n",
    "Find out how small y has to be in order for x and z to be percieved as equal. Try different values of y. What does this mean?"
   ]
  },
  {
   "cell_type": "markdown",
   "metadata": {},
   "source": [
    "# Solution\n",
    "We can estimate the largest value of y where x and z are considered equal by gradually decreasing y until the test of x == z passes.\n",
    "Doing this, we get that the largest value for y is around 6.9e-18."
   ]
  },
  {
   "cell_type": "code",
   "execution_count": null,
   "metadata": {},
   "outputs": [],
   "source": [
    "x = .1\n",
    "y = 1.0e-5\n",
    "z = x - y\n",
    "\n",
    "# Loop to find the smallest y where x and z are perceived as equal\n",
    "while x != z:\n",
    "  y *= .999\n",
    "  z = x - y\n",
    "  print(f\"y: {y:.1e}, x: {x}, z: {z}\")\n",
    "\n",
    "print(f\"The largest y where x and z are perceived as equal is: {y:.5e}\")"
   ]
  }
 ],
 "metadata": {
  "kernelspec": {
   "display_name": "env",
   "language": "python",
   "name": "python3"
  },
  "language_info": {
   "codemirror_mode": {
    "name": "ipython",
    "version": 3
   },
   "file_extension": ".py",
   "mimetype": "text/x-python",
   "name": "python",
   "nbconvert_exporter": "python",
   "pygments_lexer": "ipython3",
   "version": "3.12.3"
  }
 },
 "nbformat": 4,
 "nbformat_minor": 2
}
