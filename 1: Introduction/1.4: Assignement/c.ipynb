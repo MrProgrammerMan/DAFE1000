{
 "cells": [
  {
   "cell_type": "markdown",
   "metadata": {},
   "source": [
    "# Task\n",
    "Explore what happens if you run the below in a terminal:\n",
    "\n",
    "```python\n",
    "pi=np.pi\n",
    "pi=10\n",
    "```"
   ]
  },
  {
   "cell_type": "markdown",
   "metadata": {},
   "source": [
    "# Solution\n",
    "Running pi=np.pi aims to assign the value of np.pi to the variable pi. This will cause an error unless numpy is imported first and given the alias np.\n",
    "\n",
    "```python\n",
    "import numpy as np\n",
    "```\n",
    "\n",
    "pi=10 sets the value of variable pi to 10.\n",
    "\n",
    "This can be confirmed by entering pi, which returns the value 10 in the console."
   ]
  }
 ],
 "metadata": {
  "language_info": {
   "name": "python"
  }
 },
 "nbformat": 4,
 "nbformat_minor": 2
}
