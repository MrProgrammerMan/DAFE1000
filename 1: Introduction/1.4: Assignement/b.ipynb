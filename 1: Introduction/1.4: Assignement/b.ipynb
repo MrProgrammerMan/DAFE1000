{
 "cells": [
  {
   "cell_type": "markdown",
   "metadata": {},
   "source": [
    "# Task\n",
    "In Python, the = symbol is the assignement operator. It does not always carry the same meaning as in mathematics.\n",
    "What is the value of x after runnning the code below and why is the last line nonsensical in a mathematical context?\n",
    "\n",
    "```python\n",
    "x=2\n",
    "x=x+1\n",
    "```"
   ]
  },
  {
   "cell_type": "markdown",
   "metadata": {},
   "source": [
    "# Solution\n",
    "The value of x is 3 after running the code. In mathematical terms there is no ordinary value that satisfies the equeation x = x + 1. In Python, however, the assignement operator works like this:\n",
    "1. The right side of the operator is evaluated, substituting references to variables with their values. In this case, x + 1 is 2 + 1 which is 3.\n",
    "2. The evaluated right side is assigned to the left side. x is now equal to 3."
   ]
  },
  {
   "cell_type": "code",
   "execution_count": null,
   "metadata": {},
   "outputs": [],
   "source": [
    "x = 2\n",
    "x = x + 1\n",
    "\n",
    "print(x)\n",
    "\n",
    "x += 1\n",
    "\n",
    "print(x)"
   ]
  }
 ],
 "metadata": {
  "kernelspec": {
   "display_name": "env",
   "language": "python",
   "name": "python3"
  },
  "language_info": {
   "codemirror_mode": {
    "name": "ipython",
    "version": 3
   },
   "file_extension": ".py",
   "mimetype": "text/x-python",
   "name": "python",
   "nbconvert_exporter": "python",
   "pygments_lexer": "ipython3",
   "version": "3.12.3"
  }
 },
 "nbformat": 4,
 "nbformat_minor": 2
}
